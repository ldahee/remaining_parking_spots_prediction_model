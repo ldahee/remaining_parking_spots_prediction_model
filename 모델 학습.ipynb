{
 "cells": [
  {
   "cell_type": "code",
   "execution_count": 1,
   "metadata": {},
   "outputs": [],
   "source": [
    "import pymysql.cursors\n",
    "\n",
    "import matplotlib.pyplot as plt\n",
    "import pandas as pd\n",
    "import numpy as np\n",
    "import seaborn as sns\n",
    "\n",
    "import tensorflow as tf\n",
    "from tensorflow import keras\n",
    "from tensorflow.keras import layers"
   ]
  },
  {
   "cell_type": "code",
   "execution_count": 2,
   "metadata": {},
   "outputs": [],
   "source": [
    "# 센서 데이터가 저장된 DB 연결\n",
    "\n",
    "conn = pymysql.connect(\n",
    "host = '220.68.27.145',\n",
    "user = 'dahee',\n",
    "password = 'dlekgml123',\n",
    "db = 'park',\n",
    "charset = 'utf8')\n",
    "\n",
    "curs = conn.cursor(pymysql.cursors.DictCursor)"
   ]
  },
  {
   "cell_type": "code",
   "execution_count": 3,
   "metadata": {},
   "outputs": [],
   "source": [
    "# 주차구역 리스트\n",
    "sql = \"select distinct park_id from park_info\"\n",
    "curs.execute(sql)\n",
    "park_id = curs.fetchall()\n",
    "park_id = [p_id['park_id'] for p_id in park_id]\n",
    "\n",
    "# 요일 리스트\n",
    "days = ['Mon', 'Tue', 'Wed', 'Thu', 'Fri', 'Sat', 'Sun']\n",
    "\n",
    "# 시(hour) 리스트\n",
    "hours = range(12, 18)\n",
    "\n",
    "# 분(minute) 리스트(10분 단위로)\n",
    "minutes = range(0, 60, 10)"
   ]
  },
  {
   "cell_type": "code",
   "execution_count": 4,
   "metadata": {},
   "outputs": [],
   "source": [
    "# 학습 데이터 저장 경로\n",
    "fw_feature = open('feature.txt', 'w', encoding='utf8')\n",
    "fw_label = open('label.txt', 'w', encoding='utf8')\n",
    "train_set = list()\n",
    "\n",
    "# 주차구역별로\n",
    "for p_idx, park in enumerate(park_id):\n",
    "    for day_idx, day in enumerate(days):\n",
    "        # 요일별로 DB에서 데이터 불러오기\n",
    "        sql = \"select * from park_info where park_id=%s and day=%s;\"\n",
    "        values = (park, day)\n",
    "        curs.execute(sql, values)\n",
    "        result = curs.fetchall()\n",
    "\n",
    "        # 데이터가 없으면 넘어감\n",
    "        if len(result) == 0: continue\n",
    "\n",
    "        # DB에서 불러온 데이터를 DataFrame으로 변환\n",
    "        df = pd.DataFrame(result)\n",
    "\n",
    "        # time의 데이터 타입을 문자열로 바꾸고 hour와 minute 구함\n",
    "        df = df.astype({'time':'str'})\n",
    "        df['hour'] = df['time'].str[7:9]\n",
    "        df['minute'] = df['time'].str[10:12]\n",
    "\n",
    "        # 해당 시, 분 데이터 중에서 주차된 개수 계산 = count\n",
    "        df = df.astype({'hour':'int', 'minute':'int'})\n",
    "        for h in hours:\n",
    "            feature = df[df['hour'] == h]\n",
    "            for m in minutes:\n",
    "                count = feature[(feature['minute'] >= m) & (feature['minute'] < m+10)]\n",
    "                count = count[count['is_parking']==0]\n",
    "                count = count.drop_duplicates(['node_id'])\n",
    "                \n",
    "                fw_feature.write(str(p_idx+1) + ',' + str(day_idx+1) + ',' + str(round(h+(m/60), 5)) + '\\n')\n",
    "                fw_label.write(str(len(count)) + '\\n')\n",
    "                \n",
    "                train_set.append([str(p_idx+1), str(day_idx+1), str(round(h+(m/60), 5)), str(len(count))])\n",
    "                \n",
    "fw_feature.close()\n",
    "fw_label.close()\n",
    "\n",
    "dataset = pd.DataFrame(train_set, columns=['park_id', 'day', 'time', 'count'])\n",
    "dataset.to_csv('park_set.csv', encoding=\"utf8\", index=False)\n",
    "\n",
    "conn.close()"
   ]
  },
  {
   "cell_type": "code",
   "execution_count": 5,
   "metadata": {},
   "outputs": [],
   "source": [
    "# 학습 데이터와 평가 데이터 분리\n",
    "\n",
    "train_dataset = dataset.sample(frac=0.8,random_state=0)\n",
    "test_dataset = dataset.drop(train_dataset.index)\n",
    "\n",
    "train_dataset = train_dataset.astype({'park_id':'int', 'day':'int', 'time':'float', 'count':'int'})\n",
    "test_dataset = test_dataset.astype({'park_id':'int', 'day':'int', 'time':'float', 'count':'int'})"
   ]
  },
  {
   "cell_type": "code",
   "execution_count": 6,
   "metadata": {},
   "outputs": [],
   "source": [
    "# feature와 label 분리\n",
    "\n",
    "train_labels = train_dataset.pop('count')\n",
    "test_labels = test_dataset.pop('count')"
   ]
  },
  {
   "cell_type": "code",
   "execution_count": 7,
   "metadata": {},
   "outputs": [
    {
     "name": "stdout",
     "output_type": "stream",
     "text": [
      "Model: \"sequential\"\n",
      "_________________________________________________________________\n",
      "Layer (type)                 Output Shape              Param #   \n",
      "=================================================================\n",
      "dense (Dense)                (None, 16)                64        \n",
      "_________________________________________________________________\n",
      "dense_1 (Dense)              (None, 16)                272       \n",
      "_________________________________________________________________\n",
      "dense_2 (Dense)              (None, 16)                272       \n",
      "_________________________________________________________________\n",
      "dense_3 (Dense)              (None, 1)                 17        \n",
      "=================================================================\n",
      "Total params: 625\n",
      "Trainable params: 625\n",
      "Non-trainable params: 0\n",
      "_________________________________________________________________\n"
     ]
    }
   ],
   "source": [
    "# 모델 생성\n",
    "\n",
    "def build_model():\n",
    "    model = keras.Sequential([\n",
    "        layers.Dense(16, activation='relu', input_shape=[len(train_dataset.keys())]),\n",
    "        layers.Dense(16, activation='relu'),\n",
    "        layers.Dense(16, activation='relu'),\n",
    "        layers.Dense(1)\n",
    "    ])\n",
    "\n",
    "    optimizer = tf.keras.optimizers.Adam(0.01)\n",
    "\n",
    "    model.compile(loss='mse',\n",
    "                  optimizer=optimizer,\n",
    "                  metrics=['mae', 'mse'])\n",
    "    return model\n",
    "\n",
    "model = build_model()\n",
    "model.summary()"
   ]
  },
  {
   "cell_type": "code",
   "execution_count": 8,
   "metadata": {},
   "outputs": [
    {
     "name": "stdout",
     "output_type": "stream",
     "text": [
      "WARNING:tensorflow:Falling back from v2 loop because of error: Failed to find data adapter that can handle input: <class 'pandas.core.frame.DataFrame'>, <class 'NoneType'>\n",
      "\n",
      "....................................................................................................\n",
      "................................"
     ]
    },
    {
     "data": {
      "image/png": "[encoded data removed]",
      "text/plain": [
       "<Figure size 576x864 with 2 Axes>"
      ]
     },
     "metadata": {
      "needs_background": "light"
     },
     "output_type": "display_data"
    }
   ],
   "source": [
    "# 에포크가 끝날 때마다 점(.)을 출력해 훈련 진행 과정을 표시합니다\n",
    "class PrintDot(keras.callbacks.Callback):\n",
    "    def on_epoch_end(self, epoch, logs):\n",
    "        if epoch % 100 == 0: print('')\n",
    "        print('.', end='')\n",
    "        \n",
    "# 에폭마다의 손실값을 그래프로 출력\n",
    "def plot_history(history):\n",
    "    hist = pd.DataFrame(history.history)\n",
    "    hist['epoch'] = history.epoch\n",
    "\n",
    "    plt.figure(figsize=(8,12))\n",
    "\n",
    "    plt.subplot(2,1,1)\n",
    "    plt.xlabel('Epoch')\n",
    "    plt.ylabel('Mean Abs Error [count]')\n",
    "    plt.plot(hist['epoch'], hist['mae'],\n",
    "           label='Train Error')\n",
    "    plt.plot(hist['epoch'], hist['val_mae'],\n",
    "           label = 'Val Error')\n",
    "    plt.ylim([0,5])\n",
    "    plt.legend()\n",
    "\n",
    "    plt.subplot(2,1,2)\n",
    "    plt.xlabel('Epoch')\n",
    "    plt.ylabel('Mean Square Error [$count^2$]')\n",
    "    plt.plot(hist['epoch'], hist['mse'],\n",
    "           label='Train Error')\n",
    "    plt.plot(hist['epoch'], hist['val_mse'],\n",
    "           label = 'Val Error')\n",
    "    plt.ylim([0,20])\n",
    "    plt.legend()\n",
    "    plt.show()\n",
    "\n",
    "\n",
    "# patience 매개변수는 성능 향상을 체크할 에포크 횟수입니다\n",
    "early_stop = keras.callbacks.EarlyStopping(monitor='val_loss', patience=10)\n",
    "\n",
    "EPOCHS = 1000\n",
    "\n",
    "history = model.fit(train_dataset, train_labels, epochs=EPOCHS,\n",
    "                    validation_split = 0.2, verbose=0, callbacks=[early_stop, PrintDot()])\n",
    "\n",
    "plot_history(history)"
   ]
  },
  {
   "cell_type": "code",
   "execution_count": 18,
   "metadata": {},
   "outputs": [
    {
     "name": "stdout",
     "output_type": "stream",
     "text": [
      "WARNING:tensorflow:Falling back from v2 loop because of error: Failed to find data adapter that can handle input: <class 'pandas.core.frame.DataFrame'>, <class 'NoneType'>\n",
      "[2, 2, 3, 3, 3, 3, 1, 1, 1, 1, 2, 2, 2, 2, 2, 2, 2, 3, 3, 3, 3, 3, 3, 3, 3, 3, 3, 3, 3, 3, 3, 3, 3, 3, 3, 3]\n",
      "[2, 3, 3, 2, 2, 2, 1, 1, 1, 1, 1, 1, 2, 2, 2, 2, 3, 3, 3, 3, 3, 2, 3, 2, 3, 3, 3, 3, 3, 3, 3, 3, 3, 3, 3, 3]\n",
      "Accuracy: 0.75\n"
     ]
    }
   ],
   "source": [
    "# 예측\n",
    "test_predictions = model.predict(test_dataset).flatten()\n",
    "\n",
    "test_labels2 = test_labels.tolist()\n",
    "test_predictions2 = np.round(test_predictions).astype('int').tolist()\n",
    "print(test_predictions2)\n",
    "print(test_labels2)\n",
    "\n",
    "# 정확도 계산\n",
    "c = 0\n",
    "for i in range(len(test_labels2)):\n",
    "    if test_labels2[i] == test_predictions2[i]: c += 1\n",
    "        \n",
    "print('Accuracy:', c/len(test_labels2))"
   ]
  },
  {
   "cell_type": "code",
   "execution_count": 19,
   "metadata": {},
   "outputs": [
    {
     "name": "stdout",
     "output_type": "stream",
     "text": [
      "WARNING:tensorflow:From /root/miniconda3/lib/python3.5/site-packages/tensorflow_core/python/ops/resource_variable_ops.py:1781: calling BaseResourceVariable.__init__ (from tensorflow.python.ops.resource_variable_ops) with constraint is deprecated and will be removed in a future version.\n",
      "Instructions for updating:\n",
      "If using Keras pass *_constraint arguments to layers.\n",
      "INFO:tensorflow:Assets written to: saved_model/my_model/assets\n"
     ]
    }
   ],
   "source": [
    "# SavedModel로 전체 모델을 저장합니다\n",
    "!mkdir -p saved_model\n",
    "model.save('saved_model/my_model')"
   ]
  }
 ],
 "metadata": {
  "kernelspec": {
   "display_name": "Python 3",
   "language": "python",
   "name": "python3"
  },
  "language_info": {
   "codemirror_mode": {
    "name": "ipython",
    "version": 3
   },
   "file_extension": ".py",
   "mimetype": "text/x-python",
   "name": "python",
   "nbconvert_exporter": "python",
   "pygments_lexer": "ipython3",
   "version": "3.5.6"
  }
 },
 "nbformat": 4,
 "nbformat_minor": 4
}
