{
 "cells": [
  {
   "cell_type": "code",
   "execution_count": 13,
   "metadata": {},
   "outputs": [],
   "source": [
    "import tensorflow as tf\n",
    "from tensorflow import keras\n",
    "from tensorflow.keras import layers\n",
    "\n",
    "import numpy as np\n",
    "\n",
    "def question_time(t):\n",
    "    h, m = t.split(\":\")\n",
    "    return round(int(h)+(int(m)/60), 5)\n",
    "\n",
    "def predict_count(answer):\n",
    "    # 모델 입력 데이터 형태로 변환\n",
    "    days_dict = {'월':'Mon', '화':'Tue', '수':'Wed', '목':'Thu', \n",
    "                 '금':'Fri', '토':'Sat', '일':'Sun'}\n",
    "    days_list = ['Mon', 'Tue', 'Wed', 'Thu', 'Fri', 'Sat', 'Sun']\n",
    "\n",
    "    query = list()\n",
    "    for i in range(3):\n",
    "        if i == 0: query.append(answer[i])\n",
    "        if i == 1: query.append(days_list.index(days_dict[answer[i]]))\n",
    "        if i == 2: query.append(question_time(answer[i]))\n",
    "\n",
    "    query = np.float64(np.array([query]))\n",
    "\n",
    "    # 모델 불러오기\n",
    "    new_model = tf.keras.models.load_model('saved_model/my_model')\n",
    "\n",
    "    # 예측\n",
    "    test_predictions = new_model.predict(query).flatten()\n",
    "    \n",
    "    return int(np.round(test_predictions[0]))"
   ]
  },
  {
   "cell_type": "code",
   "execution_count": 14,
   "metadata": {},
   "outputs": [
    {
     "name": "stdin",
     "output_type": "stream",
     "text": [
      "* 주차 구역(ex: 1) 1\n",
      "* 요일(ex: 목) 수\n",
      "* 시간(ex: 12:00) 14:00\n"
     ]
    },
    {
     "name": "stdout",
     "output_type": "stream",
     "text": [
      "-------------------------\n",
      "남은 자리 수: 1\n"
     ]
    }
   ],
   "source": [
    "# 남은 자리 수를 예측할 주차 구역과 요일, 시간 입력\n",
    "question = ['* 주차 구역(ex: 1)', '* 요일(ex: 목)', '* 시간(ex: 12:00)', ]\n",
    "answer = list()\n",
    "for q in question:\n",
    "    a = input(q)\n",
    "    answer.append(a)\n",
    "    \n",
    "# 남은 자리 수 예측\n",
    "print(\"-------------------------\")\n",
    "print(\"남은 자리 수:\", predict_count(answer))"
   ]
  },
  {
   "cell_type": "code",
   "execution_count": null,
   "metadata": {},
   "outputs": [],
   "source": []
  }
 ],
 "metadata": {
  "kernelspec": {
   "display_name": "Python 3",
   "language": "python",
   "name": "python3"
  },
  "language_info": {
   "codemirror_mode": {
    "name": "ipython",
    "version": 3
   },
   "file_extension": ".py",
   "mimetype": "text/x-python",
   "name": "python",
   "nbconvert_exporter": "python",
   "pygments_lexer": "ipython3",
   "version": "3.5.6"
  }
 },
 "nbformat": 4,
 "nbformat_minor": 4
}
